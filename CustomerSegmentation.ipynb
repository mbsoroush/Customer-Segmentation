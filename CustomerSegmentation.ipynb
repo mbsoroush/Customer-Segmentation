version https://git-lfs.github.com/spec/v1
oid sha256:a213c085074c79a53c45dc84f6c8bf62af4b27565c195546ff8815ea4c994a5e
size 26566660
